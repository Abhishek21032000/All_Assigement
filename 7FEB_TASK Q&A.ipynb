{
 "cells": [
  {
   "cell_type": "code",
   "execution_count": 1,
   "id": "81ccb56b-de3a-4d13-9a9d-2fbfc49d3805",
   "metadata": {},
   "outputs": [],
   "source": [
    "\"\"\"Q1. You are writing code for a company. The requirement of the company is that you create a python\n",
    "function that will check whether the password entered by the user is correct or not. The function should\n",
    "take the password as input and return the string “Valid Password” if the entered password follows the\n",
    "below-given password guidelines else it should return “Invalid Password”.\n",
    "Note: 1. The Password should contain at least two uppercase letters and at least two lowercase letters.\n",
    "2. The Password should contain at least a number and three special characters.\n",
    "\"\"\"\n",
    "import re\n",
    "\n",
    "def check_password(password):\n",
    "    # Check if the password is at least 10 characters long\n",
    "    if len(password) < 10:\n",
    "        return \"Invalid Password\"\n",
    "    \n",
    "    # Check if the password contains at least 2 uppercase and 2 lowercase letters\n",
    "    if sum(1 for c in password if c.isupper()) < 2 or sum(1 for c in password if c.islower()) < 2:\n",
    "        return \"Invalid Password\"\n",
    "    \n",
    "    # Check if the password contains at least 1 number and 3 special characters\n",
    "    if not re.search(r\"\\d\", password) or not re.findall(r\"[~!@#$%^&*()_+`\\-={}\\[\\]:\\\";'<>,.?/\\\\|]\", password):\n",
    "        return \"Invalid Password\"\n",
    "    \n",
    "    # If all the above conditions are met, return \"Valid Password\"\n",
    "    return \"Valid Password\""
   ]
  },
  {
   "cell_type": "code",
   "execution_count": 7,
   "id": "4f7ab1e1-fa10-413a-9f30-acfa5e31809a",
   "metadata": {},
   "outputs": [
    {
     "name": "stdout",
     "output_type": "stream",
     "text": [
      "[1, 9, 25, 49, 81]\n"
     ]
    }
   ],
   "source": [
    "\"\"\"\n",
    "Q2. Solve the below-given questions using at least one of the following:\n",
    "1. Lambda functioJ\n",
    "2. Filter functioJ\n",
    "3. Zap functioJ\n",
    "4. List Comprehension\n",
    "\"\"\"\n",
    "# Check if the string starts with a particular letter\n",
    "numbers = [1, 2, 3, 4, 5, 6, 7, 8, 9]\n",
    "\n",
    "odd_squares = list(filter(lambda x: x % 2 == 1, numbers))\n",
    "odd_squares = list(map(lambda x: x**2, odd_squares))\n",
    "\n",
    "print(odd_squares)  # Output: [1, 9, 25, 49, 81]\n"
   ]
  },
  {
   "cell_type": "code",
   "execution_count": 8,
   "id": "5d9d44ee-3620-4368-9467-4741fae930b0",
   "metadata": {},
   "outputs": [
    {
     "name": "stdout",
     "output_type": "stream",
     "text": [
      "['banana', 'orange']\n"
     ]
    }
   ],
   "source": [
    "strings = [\"apple\", \"banana\", \"orange\", \"kiwi\", \"pear\", \"mango\"]\n",
    "\n",
    "long_strings = list(filter(lambda x: len(x) > 5, strings))\n",
    "\n",
    "print(long_strings)  # Output: [\"banana\", \"orange\"]\n"
   ]
  },
  {
   "cell_type": "code",
   "execution_count": 9,
   "id": "b37c85df-3d86-45fb-82cc-d9cdcea7b44a",
   "metadata": {},
   "outputs": [
    {
     "name": "stdout",
     "output_type": "stream",
     "text": [
      "['banana', 'orange']\n"
     ]
    }
   ],
   "source": [
    "strings = [\"apple\", \"banana\", \"orange\", \"kiwi\", \"pear\", \"mango\"]\n",
    "\n",
    "long_strings = [x for x in strings if len(x) > 5]\n",
    "\n",
    "print(long_strings)  # Output: [\"banana\", \"orange\"]\n"
   ]
  },
  {
   "cell_type": "code",
   "execution_count": null,
   "id": "b4354137-ec1b-41c9-8226-ee7dcc7e1a86",
   "metadata": {},
   "outputs": [],
   "source": []
  },
  {
   "cell_type": "code",
   "execution_count": null,
   "id": "329e1b01-5360-4c72-b03e-6325cb01c51f",
   "metadata": {},
   "outputs": [],
   "source": []
  }
 ],
 "metadata": {
  "kernelspec": {
   "display_name": "Python 3 (ipykernel)",
   "language": "python",
   "name": "python3"
  },
  "language_info": {
   "codemirror_mode": {
    "name": "ipython",
    "version": 3
   },
   "file_extension": ".py",
   "mimetype": "text/x-python",
   "name": "python",
   "nbconvert_exporter": "python",
   "pygments_lexer": "ipython3",
   "version": "3.10.8"
  }
 },
 "nbformat": 4,
 "nbformat_minor": 5
}
