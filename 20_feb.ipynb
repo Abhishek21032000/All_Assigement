{
 "cells": [
  {
   "cell_type": "code",
   "execution_count": null,
   "id": "39081824-04d4-4788-957c-26a81a26e4e6",
   "metadata": {},
   "outputs": [],
   "source": [
    "Q1. Explain GET and POST methods.\n",
    "HTTP (Hypertext Transfer Protocol) is the protocol used for transmitting data over the internet. In HTTP, there are several methods available \n",
    "for transmitting data, but the two most commonly used methods are GET and POST.\n",
    "\n",
    "GET Method:\n",
    "The GET method is used for retrieving data from a server. In a GET request, the data is sent as part of the URL, which is visible in the browser's\n",
    "address bar. GET requests are typically used for retrieving data from a server, such as viewing a web page or an image.\n",
    "\n",
    "POST Method:\n",
    "The POST method is used for sending data to a server, such as submitting a form. In a POST request, the data is sent in the request body, which is\n",
    "not visible in the browser's address bar. POST requests are typically used for sending data to a server, such as submitting a form or creating a new \n",
    "record in a database."
   ]
  },
  {
   "cell_type": "code",
   "execution_count": null,
   "id": "d30c81a6-9023-4d57-9b02-8d171bfe8085",
   "metadata": {},
   "outputs": [],
   "source": [
    "Q2. Why is request used in Flask?\n",
    "In Flask, a request is used to handle incoming HTTP requests from clients such as web browsers. The Flask request object provides a way to access\n",
    "the data that was sent in an HTTP request, including form data, query parameters, and headers.\n",
    "\n",
    "When a client sends an HTTP request to a Flask web application, the Flask framework generates a request object that contains all of the data from \n",
    "the request. This object is then passed to the view function that handles the request, allowing the function to access and process the data from the\n",
    "request.\n",
    "\n",
    "The request object in Flask provides many useful methods and attributes, such as:\n",
    "\n",
    "form attribute: This attribute provides access to the form data that was sent with the request. This can be useful for processing data from HTML\n",
    "forms.\n",
    "\n",
    "args attribute: This attribute provides access to the query parameters that were sent with the request.\n",
    "\n",
    "headers attribute: This attribute provides access to the headers that were sent with the request.\n",
    "\n",
    "Using the request object in Flask allows developers to build dynamic web applications that can handle user input and respond with customized output \n",
    "based on that input."
   ]
  },
  {
   "cell_type": "code",
   "execution_count": null,
   "id": "6093d9c3-2910-452a-b192-a44f09364596",
   "metadata": {},
   "outputs": [],
   "source": [
    "Q3. Why is redirect() used in Flask?\n",
    "The redirect() function is used in Flask to redirect the user to a different page or URL. When a user accesses a web application, they make \n",
    "requests to the server, which returns a response containing HTML, CSS, and other resources. Sometimes, it is necessary to redirect the user to\n",
    "a different URL, for example, after they have submitted a form or logged in successfully.\n",
    "\n",
    "In Flask, the redirect() function can be used to redirect the user to a different URL. The function takes a URL as an argument and returns a \n",
    "response that redirects the user to that URL."
   ]
  },
  {
   "cell_type": "code",
   "execution_count": null,
   "id": "1966758a-7b98-47e7-ae45-b7451b8243e7",
   "metadata": {},
   "outputs": [],
   "source": [
    "Q4. What are templates in Flask? Why is the render_template() function used?\n",
    "Templates in Flask are files that contain HTML, CSS, and other content that are used to generate dynamic web pages. Templates are used in web \n",
    "applications to separate the presentation logic from the application logic, making it easier to manage and maintain the application. Flask uses \n",
    "the Jinja2 templating engine, which is a fast and flexible engine for rendering templates.\n",
    "\n",
    "In Flask, the render_template() function is used to render templates and return the result as a response. The function takes the name of the \n",
    "template file and any arguments that need to be passed to the template as keyword arguments."
   ]
  },
  {
   "cell_type": "code",
   "execution_count": null,
   "id": "9132c42c-e949-4d6b-8c50-a55369504cd7",
   "metadata": {},
   "outputs": [],
   "source": [
    "Q5. Create a simple API. Use Postman to test it. Attach the screenshot of the output in the Jupyter Notebook."
   ]
  },
  {
   "cell_type": "code",
   "execution_count": null,
   "id": "228d3e83-5fcc-4702-8cc6-186ec861041d",
   "metadata": {},
   "outputs": [],
   "source": [
    "from flask import*"
   ]
  },
  {
   "cell_type": "code",
   "execution_count": null,
   "id": "45433d65-3a02-460b-a50b-70054ed0499a",
   "metadata": {},
   "outputs": [],
   "source": [
    "app=Flask(__name__)"
   ]
  },
  {
   "cell_type": "code",
   "execution_count": null,
   "id": "8213a06b-5d9c-4223-8483-d0cb2faa13d0",
   "metadata": {},
   "outputs": [],
   "source": [
    "@app.route('/',methods=['POST'])\n",
    "def Welcome():\n",
    "    result= \"Hii\"\n",
    "    return jsonify(result)\n",
    "\n",
    "if __name__=='__main__':\n",
    "    app.run(host='0.0.0.0')"
   ]
  },
  {
   "cell_type": "code",
   "execution_count": null,
   "id": "5f8bfd4f-9a62-417b-9c68-c972893fee8b",
   "metadata": {},
   "outputs": [],
   "source": []
  },
  {
   "cell_type": "code",
   "execution_count": null,
   "id": "7c1d5a2e-b2dd-4949-8510-c3ea8e72d207",
   "metadata": {},
   "outputs": [],
   "source": []
  },
  {
   "cell_type": "code",
   "execution_count": null,
   "id": "1b0d2985-d5b0-47ac-abc0-03752edd2a67",
   "metadata": {},
   "outputs": [],
   "source": []
  },
  {
   "cell_type": "code",
   "execution_count": null,
   "id": "38f159d7-44e7-409e-a120-eb3f106158d7",
   "metadata": {},
   "outputs": [],
   "source": []
  },
  {
   "cell_type": "code",
   "execution_count": null,
   "id": "2eb4b224-8e46-4aec-ab4c-1157c67d1b37",
   "metadata": {},
   "outputs": [],
   "source": []
  },
  {
   "cell_type": "code",
   "execution_count": null,
   "id": "71e3849f-be74-40b2-95d6-3f78f19987cc",
   "metadata": {},
   "outputs": [],
   "source": []
  },
  {
   "cell_type": "code",
   "execution_count": null,
   "id": "eca7c741-777e-42be-9f22-7a20eb4ec67d",
   "metadata": {},
   "outputs": [],
   "source": []
  }
 ],
 "metadata": {
  "kernelspec": {
   "display_name": "Python 3 (ipykernel)",
   "language": "python",
   "name": "python3"
  },
  "language_info": {
   "codemirror_mode": {
    "name": "ipython",
    "version": 3
   },
   "file_extension": ".py",
   "mimetype": "text/x-python",
   "name": "python",
   "nbconvert_exporter": "python",
   "pygments_lexer": "ipython3",
   "version": "3.10.8"
  }
 },
 "nbformat": 4,
 "nbformat_minor": 5
}
