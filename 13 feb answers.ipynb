{
 "cells": [
  {
   "cell_type": "code",
   "execution_count": null,
   "id": "a8e9784a-ebe1-4e7b-9288-1e603cb29434",
   "metadata": {},
   "outputs": [],
   "source": [
    "Q1. Explain why we have to use the Exception class while creating a Custom Exception.\n",
    "Note: Here Exception class refers to the base class for all the exceptions.\n",
    "\n",
    "When creating a custom exception, it's important to inherit from the Exception class because it provides a standard interface and behavior \n",
    "for handling errors in Python. By inheriting from the Exception class, our custom exception will inherit all of the methods and attributes of the\n",
    "base class, such as str() and args. This makes it easier to create and raise exceptions with consistent behavior. Additionally, Python has a built-in\n",
    "mechanism for handling exceptions using try and except blocks, which rely on the Exception class hierarchy to determine which exceptions to catch\n",
    "and how to handle them. By inheriting from the Exception class, your custom exception will be caught by the same exception-handling mechanisms as\n",
    "other built-in exceptions, making it easier to handle and debug errors in our code. In summary, using the Exception class as a base for creating \n",
    "\n",
    "custom exceptions ensures that our exceptions have a consistent interface and behavior, and makes it easier to handle and debug errors in our code \n",
    "using Python's built-in exception-handling mechanisms."
   ]
  },
  {
   "cell_type": "code",
   "execution_count": null,
   "id": "903b911a-fe8d-4c9a-ba12-7dddb4011618",
   "metadata": {},
   "outputs": [],
   "source": [
    "Q2. Write a python program to print Python Exception Hierarchy."
   ]
  },
  {
   "cell_type": "code",
   "execution_count": 1,
   "id": "041272cc-fbc8-47c5-9978-ff0ec01e856c",
   "metadata": {},
   "outputs": [
    {
     "ename": "NameError",
     "evalue": "name 'logging' is not defined",
     "output_type": "error",
     "traceback": [
      "\u001b[0;31m---------------------------------------------------------------------------\u001b[0m",
      "\u001b[0;31mNameError\u001b[0m                                 Traceback (most recent call last)",
      "Cell \u001b[0;32mIn[1], line 6\u001b[0m\n\u001b[1;32m      4\u001b[0m     \u001b[38;5;28;01mfor\u001b[39;00m i \u001b[38;5;129;01min\u001b[39;00m \u001b[38;5;28mcls\u001b[39m\u001b[38;5;241m.\u001b[39m__subclasses__():\n\u001b[1;32m      5\u001b[0m         treeClass(i,ind\u001b[38;5;241m+\u001b[39m\u001b[38;5;241m3\u001b[39m)\n\u001b[0;32m----> 6\u001b[0m \u001b[43mlogging\u001b[49m\u001b[38;5;241m.\u001b[39minfo(\u001b[38;5;124m\"\u001b[39m\u001b[38;5;124mHierarchy for Built-in exception is : \u001b[39m\u001b[38;5;124m\"\u001b[39m)\n\u001b[1;32m      8\u001b[0m inspect\u001b[38;5;241m.\u001b[39mgetclasstree(inspect\u001b[38;5;241m.\u001b[39mgetmro(\u001b[38;5;167;01mBaseException\u001b[39;00m))\n\u001b[1;32m     10\u001b[0m treeClass(\u001b[38;5;167;01mBaseException\u001b[39;00m)\n",
      "\u001b[0;31mNameError\u001b[0m: name 'logging' is not defined"
     ]
    }
   ],
   "source": [
    "import inspect\n",
    "def treeClass(cls, ind=0):\n",
    "    logging.info( \"{a} {b}\".format(a='_' *ind,b=cls.__name__))\n",
    "    for i in cls.__subclasses__():\n",
    "        treeClass(i,ind+3)\n",
    "logging.info(\"Hierarchy for Built-in exception is : \")\n",
    "\n",
    "inspect.getclasstree(inspect.getmro(BaseException))\n",
    "\n",
    "treeClass(BaseException)"
   ]
  },
  {
   "cell_type": "code",
   "execution_count": null,
   "id": "40808193-08e1-4e6a-86cf-451c83b2bf20",
   "metadata": {},
   "outputs": [],
   "source": [
    "Q3. What errors are defined in the ArithmeticError class? Explain any two with an example."
   ]
  },
  {
   "cell_type": "code",
   "execution_count": null,
   "id": "f84a1908-f54e-43a0-9609-eb8cce3459d5",
   "metadata": {},
   "outputs": [],
   "source": [
    "##Zero division Error\n",
    "try:\n",
    "    15/0\n",
    "except ZeroDivisionError as e:\n",
    "    logging.error(\"Capturing error {}\".format(e))"
   ]
  },
  {
   "cell_type": "code",
   "execution_count": 3,
   "id": "48d9c3b0-aacf-4366-a89e-de745e2503cd",
   "metadata": {},
   "outputs": [
    {
     "ename": "FileNotFoundError",
     "evalue": "[Errno 2] No such file or directory: '13_feb.log'",
     "output_type": "error",
     "traceback": [
      "\u001b[0;31m---------------------------------------------------------------------------\u001b[0m",
      "\u001b[0;31mFileNotFoundError\u001b[0m                         Traceback (most recent call last)",
      "Cell \u001b[0;32mIn[3], line 1\u001b[0m\n\u001b[0;32m----> 1\u001b[0m \u001b[38;5;28;01mwith\u001b[39;00m \u001b[38;5;28;43mopen\u001b[39;49m\u001b[43m(\u001b[49m\u001b[38;5;124;43m\"\u001b[39;49m\u001b[38;5;124;43m13_feb.log\u001b[39;49m\u001b[38;5;124;43m\"\u001b[39;49m\u001b[43m,\u001b[49m\u001b[38;5;124;43m\"\u001b[39;49m\u001b[38;5;124;43mr\u001b[39;49m\u001b[38;5;124;43m\"\u001b[39;49m\u001b[43m)\u001b[49m \u001b[38;5;28;01mas\u001b[39;00m f:\n\u001b[1;32m      2\u001b[0m     \u001b[38;5;28mprint\u001b[39m(f\u001b[38;5;241m.\u001b[39mread())\n",
      "File \u001b[0;32m/opt/conda/lib/python3.10/site-packages/IPython/core/interactiveshell.py:282\u001b[0m, in \u001b[0;36m_modified_open\u001b[0;34m(file, *args, **kwargs)\u001b[0m\n\u001b[1;32m    275\u001b[0m \u001b[38;5;28;01mif\u001b[39;00m file \u001b[38;5;129;01min\u001b[39;00m {\u001b[38;5;241m0\u001b[39m, \u001b[38;5;241m1\u001b[39m, \u001b[38;5;241m2\u001b[39m}:\n\u001b[1;32m    276\u001b[0m     \u001b[38;5;28;01mraise\u001b[39;00m \u001b[38;5;167;01mValueError\u001b[39;00m(\n\u001b[1;32m    277\u001b[0m         \u001b[38;5;124mf\u001b[39m\u001b[38;5;124m\"\u001b[39m\u001b[38;5;124mIPython won\u001b[39m\u001b[38;5;124m'\u001b[39m\u001b[38;5;124mt let you open fd=\u001b[39m\u001b[38;5;132;01m{\u001b[39;00mfile\u001b[38;5;132;01m}\u001b[39;00m\u001b[38;5;124m by default \u001b[39m\u001b[38;5;124m\"\u001b[39m\n\u001b[1;32m    278\u001b[0m         \u001b[38;5;124m\"\u001b[39m\u001b[38;5;124mas it is likely to crash IPython. If you know what you are doing, \u001b[39m\u001b[38;5;124m\"\u001b[39m\n\u001b[1;32m    279\u001b[0m         \u001b[38;5;124m\"\u001b[39m\u001b[38;5;124myou can use builtins\u001b[39m\u001b[38;5;124m'\u001b[39m\u001b[38;5;124m open.\u001b[39m\u001b[38;5;124m\"\u001b[39m\n\u001b[1;32m    280\u001b[0m     )\n\u001b[0;32m--> 282\u001b[0m \u001b[38;5;28;01mreturn\u001b[39;00m \u001b[43mio_open\u001b[49m\u001b[43m(\u001b[49m\u001b[43mfile\u001b[49m\u001b[43m,\u001b[49m\u001b[43m \u001b[49m\u001b[38;5;241;43m*\u001b[39;49m\u001b[43margs\u001b[49m\u001b[43m,\u001b[49m\u001b[43m \u001b[49m\u001b[38;5;241;43m*\u001b[39;49m\u001b[38;5;241;43m*\u001b[39;49m\u001b[43mkwargs\u001b[49m\u001b[43m)\u001b[49m\n",
      "\u001b[0;31mFileNotFoundError\u001b[0m: [Errno 2] No such file or directory: '13_feb.log'"
     ]
    }
   ],
   "source": [
    "with open(\"13_feb.log\",\"r\") as f:\n",
    "    print(f.read())"
   ]
  },
  {
   "cell_type": "code",
   "execution_count": null,
   "id": "60faa92c-be48-437a-a733-ffb94ae2e525",
   "metadata": {},
   "outputs": [],
   "source": [
    "##Over flow error \n",
    "x=8.0\n",
    "try:\n",
    "    for i in range (1,1000):\n",
    "        x=x**i\n",
    "except OverflowError as e:\n",
    "    logging.error(\"Over flow error {}\".format(e))"
   ]
  },
  {
   "cell_type": "code",
   "execution_count": null,
   "id": "4b534821-873d-454a-b9bb-709ab1e11307",
   "metadata": {},
   "outputs": [],
   "source": [
    "with open(\"13_feb.log\",\"r\") as f:\n",
    "    print(f.read())"
   ]
  },
  {
   "cell_type": "code",
   "execution_count": null,
   "id": "63266d09-12cb-492b-aa14-bafe57e0fa8e",
   "metadata": {},
   "outputs": [],
   "source": [
    "Q4. Why LookupError class is used? Explain with an example KeyError and IndexError.\n",
    "LookupError class is a built-in exception class in python that serves as a base class for all errors that occcur when a specificed key or index\n",
    "is not found in a mapping or sequence, respectively. it is used to handle lookup-related errors in python."
   ]
  },
  {
   "cell_type": "code",
   "execution_count": null,
   "id": "462988e2-6fa9-452c-b881-8a15c4796968",
   "metadata": {},
   "outputs": [],
   "source": [
    "l1=[\"Saksham\",9333,\"sharma\",987878]"
   ]
  },
  {
   "cell_type": "code",
   "execution_count": 1,
   "id": "97100a54-6d24-4610-a9c6-9e28ed4e5f51",
   "metadata": {},
   "outputs": [
    {
     "ename": "NameError",
     "evalue": "name 'l1' is not defined",
     "output_type": "error",
     "traceback": [
      "\u001b[0;31m---------------------------------------------------------------------------\u001b[0m",
      "\u001b[0;31mNameError\u001b[0m                                 Traceback (most recent call last)",
      "Cell \u001b[0;32mIn[1], line 1\u001b[0m\n\u001b[0;32m----> 1\u001b[0m \u001b[43ml1\u001b[49m[\u001b[38;5;241m3\u001b[39m]\n",
      "\u001b[0;31mNameError\u001b[0m: name 'l1' is not defined"
     ]
    }
   ],
   "source": [
    "l1[3]"
   ]
  },
  {
   "cell_type": "code",
   "execution_count": 3,
   "id": "7c1cd5a1-2113-40b2-bf3d-b7605a320998",
   "metadata": {},
   "outputs": [
    {
     "ename": "IndentationError",
     "evalue": "expected an indented block after 'with' statement on line 5 (603272802.py, line 6)",
     "output_type": "error",
     "traceback": [
      "\u001b[0;36m  Cell \u001b[0;32mIn[3], line 6\u001b[0;36m\u001b[0m\n\u001b[0;31m    print(f.read())\u001b[0m\n\u001b[0m    ^\u001b[0m\n\u001b[0;31mIndentationError\u001b[0m\u001b[0;31m:\u001b[0m expected an indented block after 'with' statement on line 5\n"
     ]
    }
   ],
   "source": [
    "try:\n",
    "    l1[5]\n",
    "except IndexError as e:\n",
    "    logging.info(\"Try to call a element which is not in range:-  {}\".format(e))\n",
    "    with open(\"13_feb.log\",\"r\") as f:\n",
    "    print(f.read())\n",
    "    d={\"name\":\"Saksham\",\"course\":\"DS\"}\n",
    "    d[\"name\"]\n",
    "    d[\"price\"] ##getting Key error"
   ]
  },
  {
   "cell_type": "code",
   "execution_count": 4,
   "id": "5420deef-c8fe-4a07-a7e2-b194d5551101",
   "metadata": {},
   "outputs": [
    {
     "ename": "NameError",
     "evalue": "name 'd' is not defined",
     "output_type": "error",
     "traceback": [
      "\u001b[0;31m---------------------------------------------------------------------------\u001b[0m",
      "\u001b[0;31mNameError\u001b[0m                                 Traceback (most recent call last)",
      "Cell \u001b[0;32mIn[4], line 2\u001b[0m\n\u001b[1;32m      1\u001b[0m \u001b[38;5;28;01mtry\u001b[39;00m:\n\u001b[0;32m----> 2\u001b[0m     \u001b[43md\u001b[49m[\u001b[38;5;124m\"\u001b[39m\u001b[38;5;124mprice\u001b[39m\u001b[38;5;124m\"\u001b[39m]\n\u001b[1;32m      3\u001b[0m \u001b[38;5;28;01mexcept\u001b[39;00m \u001b[38;5;167;01mKeyError\u001b[39;00m \u001b[38;5;28;01mas\u001b[39;00m e:\n\u001b[1;32m      4\u001b[0m     logging\u001b[38;5;241m.\u001b[39merror(\u001b[38;5;124m\"\u001b[39m\u001b[38;5;132;01m{}\u001b[39;00m\u001b[38;5;124m\"\u001b[39m\u001b[38;5;241m.\u001b[39mformat(e))\n",
      "\u001b[0;31mNameError\u001b[0m: name 'd' is not defined"
     ]
    }
   ],
   "source": [
    "try:\n",
    "    d[\"price\"]\n",
    "except KeyError as e:\n",
    "    logging.error(\"{}\".format(e))\n",
    "with open(\"13_feb.log\",\"r\") as f:\n",
    "    print(f.read())"
   ]
  },
  {
   "cell_type": "code",
   "execution_count": null,
   "id": "afb0ad61-2e61-4ce4-86f1-ee20bb329216",
   "metadata": {},
   "outputs": [],
   "source": [
    "Q5. Explain ImportError. What is ModuleNotFoundError?\n",
    "ImportError and ModuleNotFoundError are both Python exceptions that occur when there is an issue with importing a module.\n",
    "\n",
    "ImportError\n",
    "it is a general exception that is raised when a module is not found or there is an error during the import process. This can happen when a module\n",
    "or package is missing, or when there is a syntax error or other issue in the module that prevents it from being imported.\n",
    "\n",
    "ModuleNotFoundError\n",
    "it is a more specific exception that is raised when a module could not be found during the import process. This exception was introduced in Python\n",
    "3.6 as a more specific alternative to ImportError. When a module or package cannot be found, Python raises ModuleNotFoundError instead of the more\n",
    "general ImportError.\n",
    "\n",
    "In short, ModuleNotFoundError is a more specific version of ImportError that specifically indicates that a module could not be found during the\n",
    "import process."
   ]
  },
  {
   "cell_type": "code",
   "execution_count": 5,
   "id": "bc367ead-00b6-478f-a201-772ffae2c592",
   "metadata": {},
   "outputs": [
    {
     "ename": "IndentationError",
     "evalue": "expected an indented block after 'try' statement on line 4 (481706703.py, line 5)",
     "output_type": "error",
     "traceback": [
      "\u001b[0;36m  Cell \u001b[0;32mIn[5], line 5\u001b[0;36m\u001b[0m\n\u001b[0;31m    import hii\u001b[0m\n\u001b[0m    ^\u001b[0m\n\u001b[0;31mIndentationError\u001b[0m\u001b[0;31m:\u001b[0m expected an indented block after 'try' statement on line 4\n"
     ]
    }
   ],
   "source": [
    "import hii ## getting error because this model doesnot exixt\n",
    "def greetings(name): \n",
    "    print(\"hii\",name)\n",
    "    try:\n",
    "    import hii\n",
    "    def greetings(name):\n",
    "        logging.info(\"hii {}.format(name)\")\n",
    "except ModuleNotFoundError as e:\n",
    "    logging.error(\"{}\".format(e))\n",
    "    \n",
    "greetings(\"Saksham\")\n",
    "with open(\"13_feb.log\",\"r\") as f:\n",
    "    print(f.read())"
   ]
  },
  {
   "cell_type": "code",
   "execution_count": null,
   "id": "4d872a3f-b23a-4330-bb22-351bef31e2ce",
   "metadata": {},
   "outputs": [],
   "source": [
    "Q6. List down some best practices for exception handling in python."
   ]
  },
  {
   "cell_type": "code",
   "execution_count": null,
   "id": "09732f75-2893-4c18-b36f-b8661078b98e",
   "metadata": {},
   "outputs": [],
   "source": [
    "Use specific exception handling:\n",
    "Catch specific exceptions instead of using a generic Exception catch-all. This will make it easier to identify and fix issues and avoid masking other errors.\n",
    "\n",
    "Keep try blocks small:\n",
    "Put only the code that can potentially raise an exception inside the try block, keeping the block as small as possible. This will make it easier to identify the code that's causing the issue.\n",
    "\n",
    "Use multiple except blocks:\n",
    "Use multiple except blocks, each handling a specific exception type. This will make the code easier to understand and help avoid hiding errors.\n",
    "\n",
    "Avoid catching too broadly:\n",
    "Avoid catching exceptions too broadly as it can make it harder to debug errors.\n",
    "\n",
    "Use finally block:\n",
    "Use a finally block to perform cleanup operations, such as closing files or network connections. This block will execute regardless of whether an exception is raised.\n",
    "\n",
    "Log exceptions:\n",
    "Use a logging framework to log exceptions and error messages. This will help to debug issues and monitor the system.\n",
    "\n",
    "Raise exceptions when needed:\n",
    "Raise exceptions when an error condition is detected. This will help to communicate issues to calling code.\n",
    "\n",
    "Use context managers:\n",
    "Use context managers to automatically manage resources such as files or database connections. This will ensure that resources are always properly closed, even in the case of an exception.\n",
    "\n",
    "Handle exceptions at the appropriate level:\n",
    "Handle exceptions at the appropriate level, whether it's at the module, application or system level.\n",
    "\n",
    "Document your code:\n",
    "Document your code to"
   ]
  }
 ],
 "metadata": {
  "kernelspec": {
   "display_name": "Python 3 (ipykernel)",
   "language": "python",
   "name": "python3"
  },
  "language_info": {
   "codemirror_mode": {
    "name": "ipython",
    "version": 3
   },
   "file_extension": ".py",
   "mimetype": "text/x-python",
   "name": "python",
   "nbconvert_exporter": "python",
   "pygments_lexer": "ipython3",
   "version": "3.10.8"
  }
 },
 "nbformat": 4,
 "nbformat_minor": 5
}
