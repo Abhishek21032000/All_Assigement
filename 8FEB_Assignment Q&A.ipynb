{
 "cells": [
  {
   "cell_type": "code",
   "execution_count": null,
   "id": "942161cb-d687-4c05-8d75-43d8b5af41e1",
   "metadata": {},
   "outputs": [],
   "source": [
    "1.What is abstraction in OOps? Explain with an example.\n",
    "\n",
    "Ans- \n",
    "      Abstraction is a fundamental concept in Object-Oriented Programming(OOP) that refers to the process of hiding\n",
    "    complex implementation details behind a simplified interface.\n",
    "      The idea behind abstraction is to present an object or a system in a way that focuses on what it does,\n",
    "        rather than how it does it.\n",
    "    \n",
    "    for example - Consider a car.The user of a car inly needs to know what it does(i.e ,it is a mean of\n",
    "    transportation), but not how it does it(i.e,the inrnal mechanics ,such as the engine,gears, and wheels)\n",
    "    The car;s abstract interface provides the necessary functions for the user to operate it(e.g. start the\n",
    "    engine,change gears,accelerate, and brake),without exposing its complex inner workings.\n",
    " "
   ]
  },
  {
   "cell_type": "code",
   "execution_count": null,
   "id": "c28ae52a-43f3-4df7-a688-515746b14c4f",
   "metadata": {},
   "outputs": [],
   "source": [
    "2.Differntiate between Abstraction and Encapsulation.Explain with an example.\n",
    "\n",
    "Ans-   Abstraction is the process of hiding the implementation details of an object or system and presenting it to \n",
    "    the user in a simplified way.It focuses on what the object or system does,rather than how it does it.\n",
    "    Abstraction a achieved in OOP by using abstract classes and interfaces.\n",
    "\n",
    "Encapsulation ,on the other hand,is the process of wrapping data and behaviour within a single unit(i.e-an object)\n",
    "and hiding it from the outside world.The idea behind encapsulation is to create a secure container for the data and\n",
    "behaviour,so that the object's internal state can be protected from unauthorized access and modification.\n",
    "\n",
    "For example-  Car\n",
    "           Abstraction-Presenting the car to the user in a simplified way,such as a means of transportation.\n",
    "    The user does not need to know how the car works,just what it does.\n",
    "           Encapsulation is achieved by wrapping the internal mechanics of the car within iths physical \n",
    "        structures.,so that the user does not have direct access to the  engine,gears, and wheels.\n",
    "\n",
    "           In conclusion,abstraction focuses on what an object or system does,while encapsulaton focuses on how it\n",
    "        is implemented and protected."
   ]
  },
  {
   "cell_type": "code",
   "execution_count": null,
   "id": "0a8dd939-7135-4f9c-b85b-58d11fc9079d",
   "metadata": {},
   "outputs": [],
   "source": [
    "3.What is abc module in python? Why is it used?\n",
    "\n",
    "Ans - It Is \"Abstract Base Classes\" It provides a way to define abstract classes in python, which are classes that\n",
    "cannot be instantiated on their own, but only serve as a base for other classes.\n",
    "\n",
    "    classes that enforce certain\n",
    "    \"ABC\" module is used to define abstract classes in python\n",
    "    Python does not have native support for abstract classes.\n",
    "    We can define classes that enforce certain methods to be implemented by any        \n",
    "    concrete class that extends the abstract class.This helps to ensure that all subclasses of the abstract class\n",
    "    have a consistent interface,which makes it easier to write code that can work with objects of different types.\n"
   ]
  },
  {
   "cell_type": "code",
   "execution_count": null,
   "id": "2bb511ca-1ea1-49e5-a958-a5918bd2e7aa",
   "metadata": {},
   "outputs": [],
   "source": [
    "4.How can we achieve data abstraction?\n",
    "\n",
    "Ans- Data abstraction is technique used the implementation details of an object or system, and present only the \n",
    "necessary information to the user.In Object-Oriented Programming(OOP).\n",
    "\n",
    " 1.Encapsulation - This is the process of wrapping data and behiviour within a single unit(i.e- an object) and \n",
    "    hiding it from the outside world.The object's internal state can be protected from unauthorized aceess and\n",
    "    modification by using access modifiers,such as \"private\" and \"protected\".\n",
    "\n",
    " 2.Abstraction - This is the process of presenting an object or system in a way that focuses on what it does, rather \n",
    "than how it does it.\n",
    " Abstraction is achieved in OOP by using abstract classes and interfaces, which define the methods that an object \n",
    "    must implement , but do not provide any implementation.\n",
    "\n",
    " 3.Inheritance - This is the mechanism  by which a new class can be derived from an existing class, inheriting its\n",
    "attributes and behaviour.The derived class can override or extend the behaviour of the base class as needed.\n",
    "\n",
    " By using these concepts, we can create classes that define a common interface hide  for related objects, and hide \n",
    "    the implementation details of the object behind that interface.This allows us to write code that can work with\n",
    "    objects of different types,without having to know the specifies of how each object is implemented.The result is\n",
    "    code that is easier to maintain and modify as the implementation details of the objects can change without \n",
    "    affecting the code that uses the objects.\n"
   ]
  },
  {
   "cell_type": "code",
   "execution_count": null,
   "id": "d319e198-2a99-4334-a0d2-ed72ea58130a",
   "metadata": {},
   "outputs": [],
   "source": [
    "5.Can we create an instance of abstract class? Explain Your answer.\n",
    "\n",
    "Ans-\n",
    "     No.You cannot create an instance of an abstract class in most programming languages,including python.\n",
    "    An abstract class in meant to be a blueprint for other classes,but it cannot be instatiated on its own.\n",
    "    The ourpose of an abstract class is to define a common interface for a group of related classes,but not to be\n",
    "    used as an object in its own right.\n",
    "    \n",
    "    for example -\n",
    "                Consider an abstract class 'shape' that defines a common interface for all shapes in a @D space.\n",
    "        The \"shape' class might have an abstract method 'area()' that calculates the area of a shape,but it wouldn't\n",
    "        make sense to create shape.\n",
    "        subclasses of the 'shape' class such as 'circle' and 'rectangle', that implement the 'area' method and can\n",
    "        be instantiated as objects.\n",
    "        \n",
    "        In summary, an abstract class is tool for craeting a common interface for a group related classes, but it \n",
    "        cannot be instantiated as an object in its own right.\n",
    "        To use an abstract class, you must create a concrete sub class that implements the abstract methods defined \n",
    "        in the base class."
   ]
  }
 ],
 "metadata": {
  "kernelspec": {
   "display_name": "Python 3 (ipykernel)",
   "language": "python",
   "name": "python3"
  },
  "language_info": {
   "codemirror_mode": {
    "name": "ipython",
    "version": 3
   },
   "file_extension": ".py",
   "mimetype": "text/x-python",
   "name": "python",
   "nbconvert_exporter": "python",
   "pygments_lexer": "ipython3",
   "version": "3.10.8"
  }
 },
 "nbformat": 4,
 "nbformat_minor": 5
}
