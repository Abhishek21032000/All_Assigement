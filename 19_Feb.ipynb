{
 "cells": [
  {
   "cell_type": "code",
   "execution_count": null,
   "id": "7a5ad7ea-f986-413d-b3ff-f88ed0cc25df",
   "metadata": {},
   "outputs": [],
   "source": [
    "Q1. What is Flask Framework? What are the advantages of Flask Framework?\n",
    "Flask is a simple and lightweight web framework for building web applications using Python. Its advantages include easy to learn and use, \n",
    "flexibility, extensibility, good for prototyping, and a large community for support.Flask is based on the Werkzeug WSGI toolkit and the Jinja2\n",
    "template engine.\n",
    "\n",
    "The advantages of using Flask include:\n",
    "\n",
    "Easy to Learn and Use:\n",
    "Flask is designed to be simple and easy to understand. It has a small and simple core, and it is easy to extend with third-party libraries.\n",
    "\n",
    "Lightweight:\n",
    "Flask is a lightweight framework that doesn't require much setup or boilerplate code. This makes it easy to use for small projects and prototypes.\n",
    "\n",
    "Flexible:\n",
    "Flask is a flexible framework that allows you to choose your own database, templating engine, and other tools. It does not impose any particular way\n",
    "of doing things.\n",
    "\n",
    "Extensible:\n",
    "Flask can be easily extended with third-party libraries to add functionality to your application. There are many third-party libraries available for\n",
    "Flask that can help you quickly add features to your application.\n",
    "\n",
    "Good for Prototyping:\n",
    "Flask is great for building prototypes quickly and easily. With its lightweight nature and flexibility, you can quickly get up and running with a\n",
    "basic application and start testing your ideas.\n",
    "\n",
    "Large Community:\n",
    "Flask has a large community of developers and users who contribute to its development and provide support. This means that you can find help and \n",
    "resources easily if you run into any issues."
   ]
  },
  {
   "cell_type": "code",
   "execution_count": null,
   "id": "7336ff9c-88e7-4209-9fe8-c6b98654f2ef",
   "metadata": {},
   "outputs": [],
   "source": [
    "Q2. Create a simple Flask application to display ‘Hello World!!’. Attach the screenshot of the output in Jupyter Notebook."
   ]
  },
  {
   "cell_type": "code",
   "execution_count": null,
   "id": "2210976b-2ac1-4ae2-8e17-f72d91d72d80",
   "metadata": {},
   "outputs": [],
   "source": [
    "from flask import Flask"
   ]
  },
  {
   "cell_type": "code",
   "execution_count": null,
   "id": "18d376ba-a59f-4251-b63e-b267fb66515b",
   "metadata": {},
   "outputs": [],
   "source": [
    "app=Flask(__name__)"
   ]
  },
  {
   "cell_type": "code",
   "execution_count": null,
   "id": "882b6a00-6278-44e9-bb62-79477b0957ec",
   "metadata": {},
   "outputs": [],
   "source": [
    "@app.route(\"/hello\")\n",
    "def hello():\n",
    "    return\"<h1> Hello World!!</h1>\"\n",
    "\n",
    "if __name__==\"__main__\":\n",
    "    app.run(host=\"0.0.0.0\")"
   ]
  },
  {
   "cell_type": "code",
   "execution_count": null,
   "id": "2f83d697-8ac1-414d-b833-fce5c2b2e768",
   "metadata": {},
   "outputs": [],
   "source": [
    "Q3. What is App routing in Flask? Why do we use app routes?\n",
    "In Flask, routing refers to the process of matching a URL to a particular function that generates a response. App routing in Flask is the process \n",
    "of mapping a URL to a specific view function in your application.\n",
    "\n",
    "Routes are defined using the @app.route() decorator in Flask. This decorator tells Flask what URL should trigger the associated function. \n",
    "for above eg:- @app.route(\"/hello\") means URL is associated with the hello() function, which returns a message hello.\n",
    "\n",
    "We use app routes in Flask to map URLs to view functions. This allows us to create different pages and endpoints for our web application.\n",
    "By defining different routes, we can handle different types of requests and provide different responses based on the URL that was requested.\n",
    "This is a fundamental feature of any web framework and allows us to build complex web applications with ease."
   ]
  },
  {
   "cell_type": "code",
   "execution_count": null,
   "id": "4bbe9284-30b1-41f1-bb5e-e551e403e761",
   "metadata": {},
   "outputs": [],
   "source": [
    "Q4. Create a “/welcome” route to display the welcome message “Welcome to ABC Corporation” and a “/” route to show the following details:\n",
    "Company Name: ABC Corporation\n",
    "Location: India\n",
    "Contact Detail: 999-999-9999\n",
    "Attach the screenshot of the output in Jupyter Notebook."
   ]
  },
  {
   "cell_type": "code",
   "execution_count": null,
   "id": "b3f85a00-6b83-4889-8eb1-ba097ed3137b",
   "metadata": {},
   "outputs": [],
   "source": [
    "from flask import Flask\n",
    "\n",
    "app=Flask(__name__)"
   ]
  }
 ],
 "metadata": {
  "kernelspec": {
   "display_name": "Python 3 (ipykernel)",
   "language": "python",
   "name": "python3"
  },
  "language_info": {
   "codemirror_mode": {
    "name": "ipython",
    "version": 3
   },
   "file_extension": ".py",
   "mimetype": "text/x-python",
   "name": "python",
   "nbconvert_exporter": "python",
   "pygments_lexer": "ipython3",
   "version": "3.10.8"
  }
 },
 "nbformat": 4,
 "nbformat_minor": 5
}
