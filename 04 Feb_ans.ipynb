{
 "cells": [
  {
   "cell_type": "code",
   "execution_count": 1,
   "id": "08e6cd21-b355-49bc-88f0-7a0bda1b597f",
   "metadata": {},
   "outputs": [
    {
     "data": {
      "text/plain": [
       "[('Sachin Tendulkar', 34357),\n",
       " ('Ricky Ponting', 27483),\n",
       " ('Jack Kallis', 25534),\n",
       " ('Virat Kohli', 24936)]"
      ]
     },
     "execution_count": 1,
     "metadata": {},
     "output_type": "execute_result"
    }
   ],
   "source": [
    "# Q1. Create a python program to sort the given list of tuples based on integer value using a lambda function.\n",
    "# [('Sachin Tendulkar', 34357), ('Ricky Ponting', 27483), ('Jack Kallis', 25534), ('Virat Kohli', 24936)]\n",
    "t=[('Sachin Tendulkar', 34357), ('Ricky Ponting', 27483), ('Jack Kallis', 25534), ('Virat Kohli', 24936)]\n",
    "t"
   ]
  },
  {
   "cell_type": "code",
   "execution_count": 2,
   "id": "f12875cc-9388-4803-afaf-30775e5c9007",
   "metadata": {},
   "outputs": [
    {
     "data": {
      "text/plain": [
       "[('Virat Kohli', 24936),\n",
       " ('Jack Kallis', 25534),\n",
       " ('Ricky Ponting', 27483),\n",
       " ('Sachin Tendulkar', 34357)]"
      ]
     },
     "execution_count": 2,
     "metadata": {},
     "output_type": "execute_result"
    }
   ],
   "source": [
    "t_sorted=sorted(t,key=lambda x:x[1])\n",
    "t_sorted"
   ]
  },
  {
   "cell_type": "code",
   "execution_count": 3,
   "id": "14d14afc-0664-4563-ac63-d53623b077b8",
   "metadata": {},
   "outputs": [
    {
     "data": {
      "text/plain": [
       "<map at 0x7efcf1f00be0>"
      ]
     },
     "execution_count": 3,
     "metadata": {},
     "output_type": "execute_result"
    }
   ],
   "source": [
    "# Q2. Write a Python Program to find the squares of all the numbers in the given list of integers using\n",
    "# lambda and map functions.\n",
    "# [1, 2, 3, 4, 5, 6, 7, 8, 9, 10]\n",
    "l=[1,2,3,4,5,6,7,8,9,10]\n",
    "(map(lambda x:x**2,l))"
   ]
  },
  {
   "cell_type": "code",
   "execution_count": 4,
   "id": "6319c213-68cc-4f77-b7e9-9f6086873d0e",
   "metadata": {},
   "outputs": [
    {
     "data": {
      "text/plain": [
       "[1, 4, 9, 16, 25, 36, 49, 64, 81, 100]"
      ]
     },
     "execution_count": 4,
     "metadata": {},
     "output_type": "execute_result"
    }
   ],
   "source": [
    "list(map(lambda x: x**2,l))"
   ]
  },
  {
   "cell_type": "code",
   "execution_count": 5,
   "id": "97bac857-1ccc-4e80-867e-37266dff59c6",
   "metadata": {},
   "outputs": [
    {
     "data": {
      "text/plain": [
       "('1', '2', '3', '4', '5', '6', '7', '8', '9', '10')"
      ]
     },
     "execution_count": 5,
     "metadata": {},
     "output_type": "execute_result"
    }
   ],
   "source": [
    "# Q3. Write a python program to convert the given list of integers into a tuple of strings. Use map and\n",
    "# lambda functions\n",
    "# Given String: [1, 2, 3, 4, 5, 6, 7, 8, 9, 10]\n",
    "# Expected output: ('1', '2', '3', '4', '5', '6', '7', '8', '9', '10')\n",
    "l=[1, 2, 3, 4, 5, 6, 7, 8, 9, 10]\n",
    "l\n",
    "\n",
    "result_list = list(map(str,l))\n",
    "result_list\n",
    "\n",
    "tuple1=tuple(result_list)\n",
    "tuple1"
   ]
  },
  {
   "cell_type": "code",
   "execution_count": 6,
   "id": "3c31ca4e-0438-416f-b223-fb99a6968714",
   "metadata": {},
   "outputs": [
    {
     "data": {
      "text/plain": [
       "[1,\n",
       " 2,\n",
       " 3,\n",
       " 4,\n",
       " 5,\n",
       " 6,\n",
       " 7,\n",
       " 8,\n",
       " 9,\n",
       " 10,\n",
       " 11,\n",
       " 12,\n",
       " 13,\n",
       " 14,\n",
       " 15,\n",
       " 16,\n",
       " 17,\n",
       " 18,\n",
       " 19,\n",
       " 20,\n",
       " 21,\n",
       " 22,\n",
       " 23,\n",
       " 24,\n",
       " 25]"
      ]
     },
     "execution_count": 6,
     "metadata": {},
     "output_type": "execute_result"
    }
   ],
   "source": [
    "# Q4. Write a python program using reduce function to compute the product of a list containing numbers\n",
    "# from 1 to 25.\n",
    "l=[]\n",
    "for i in range(1,26):\n",
    "    l.append(i)\n",
    "l"
   ]
  },
  {
   "cell_type": "code",
   "execution_count": 7,
   "id": "6b8ef0e1-55d5-4c11-b1f9-85e1f24a679d",
   "metadata": {},
   "outputs": [
    {
     "data": {
      "text/plain": [
       "[6, 60, 90, 120]"
      ]
     },
     "execution_count": 7,
     "metadata": {},
     "output_type": "execute_result"
    }
   ],
   "source": [
    "# Q5. Write a python program to filter the numbers in a given list that are divisible by 2 and 3 using the\n",
    "# filter function.\n",
    "# [2, 3, 6, 9, 27, 60, 90, 120, 55, 46]\n",
    "l=[2, 3, 6, 9, 27, 60, 90, 120, 55, 46]\n",
    "list(filter(lambda x:x%2==0 and x%3==0,l))"
   ]
  },
  {
   "cell_type": "code",
   "execution_count": 9,
   "id": "b85f1c25-0708-4b53-aa9f-12830616da6d",
   "metadata": {},
   "outputs": [
    {
     "data": {
      "text/plain": [
       "['php', 'aba', 'radar', 'level']"
      ]
     },
     "execution_count": 9,
     "metadata": {},
     "output_type": "execute_result"
    }
   ],
   "source": [
    "# Q6. Write a python program to find palindromes in the given list of strings using lambda and filter\n",
    "# function.\n",
    "# ['python', 'php', 'aba', 'radar', 'level']\n",
    "l=['python', 'php', 'aba', 'radar', 'level']\n",
    "l\n",
    "\n",
    "list(filter(lambda x:x==x[::-1],l))"
   ]
  },
  {
   "cell_type": "code",
   "execution_count": null,
   "id": "85f85724-6389-4ccb-84ce-889595e06776",
   "metadata": {},
   "outputs": [],
   "source": []
  }
 ],
 "metadata": {
  "kernelspec": {
   "display_name": "Python 3 (ipykernel)",
   "language": "python",
   "name": "python3"
  },
  "language_info": {
   "codemirror_mode": {
    "name": "ipython",
    "version": 3
   },
   "file_extension": ".py",
   "mimetype": "text/x-python",
   "name": "python",
   "nbconvert_exporter": "python",
   "pygments_lexer": "ipython3",
   "version": "3.10.8"
  }
 },
 "nbformat": 4,
 "nbformat_minor": 5
}
